{
 "cells": [
  {
   "cell_type": "code",
   "execution_count": 1,
   "metadata": {
    "collapsed": true
   },
   "outputs": [],
   "source": [
    "#Dev\n",
    "\n",
    "import pandas as pd\n",
    "# this part needed for mac\n",
    "# import pymysql\n",
    "# pymysql.install_as_MySQLdb()\n",
    "############################\n",
    "import seaborn as sns\n",
    "from mysql.connector import MySQLConnection, Error\n",
    "from XML2MySQL import connect\n",
    "from sqlalchemy import create_engine\n",
    "import matplotlib.pyplot as plt\n",
    "%matplotlib inline\n",
    "\n",
    "class MySQL2PandasDF:\n",
    "    '''\n",
    "    Takes the string connection elements of a MySQL database as input\n",
    "    Class should only be initialized once - container holds database connection upon init\n",
    "        All database tables are stored as Pandas DataFrames when returning class instance\n",
    "        Allows a user to query MySQL normally and return a dataframe of the search results\n",
    "        Stores user query history and optionally allows user to give each query a unique identifier\n",
    "    '''\n",
    "    def __init__(self,host,db,user,password):\n",
    "        \n",
    "        self.host = host\n",
    "        connection_string = 'mysql+mysqldb://'+user+':'+password+'@'+host+'/'+db\n",
    "        self.query_connection = create_engine(connection_string)\n",
    "        try:\n",
    "            self.db_connection = MySQLConnection(\n",
    "                                        host = host,\n",
    "                                        database = db,\n",
    "                                        user = user,\n",
    "                                        password = password)\n",
    "            if self.db_connection.is_connected():\n",
    "                print('Connection to MySQL database ' + db + ' successful.')\n",
    "        except Error:\n",
    "            print('Error connecting to database ' + db)\n",
    "            print(Error)\n",
    "            \n",
    "        self.source = dict()\n",
    "        self.history = dict()\n",
    "        self.plots = dict()\n",
    "    \n",
    "    def db2df(self, db_connection=None):\n",
    "        \"\"\"\n",
    "        Sets self.source, an entire database as a dictionary of pandas DataFrames accessible by table name keys\n",
    "        Optionally takes a MySQLConnection object as input with the db_connection parameter\n",
    "        :params: (MySQLConnection object)\n",
    "        :return: {Table: pd.DataFrame}\n",
    "        \"\"\"\n",
    "        if db_connection is None:\n",
    "            pass\n",
    "        else:\n",
    "            self.db_connection = db_connection\n",
    "        cursor = self.db_connection.cursor()\n",
    "        cursor.execute(\"SHOW TABLES\")\n",
    "        rows = cursor.fetchall()\n",
    "        self.source = dict()\n",
    "        for dummy_table_name in rows:\n",
    "            self.source[dummy_table_name[0]] = pd.read_sql_table(dummy_table_name[0],self.query_connection)\n",
    "        cursor.close()\n",
    "\n",
    "    \n",
    "    def query_mysql(self, query, title):\n",
    "        \"\"\"\n",
    "        Query a MySQL database and return a pandas DataFrame\n",
    "        Class tracks user history using a dictionary\n",
    "        User must provide question title as it is the key for the DataFrame returned\n",
    "        :params: MySQL query, title\n",
    "        :return: {Query Title: pd.DataFrame}, DataFrame\n",
    "        \"\"\"\n",
    "        if str(type(title)) != \"<class 'str'>\":\n",
    "            title = input('Title must be be a string: ')\n",
    "        else:\n",
    "            df = pd.read_sql(query,self.query_connection)\n",
    "            self.history[title] = df\n",
    "        return df\n",
    "            \n",
    "    def plotdf(self, plot, title):\n",
    "        \"\"\"\n",
    "        Plot a pd.series as a given plot title\n",
    "        Class tracks plot history\n",
    "        User must provide plot title as it is key for DataFrame returned\n",
    "        :params: Seaborn or Matplotlibe object, plot title\n",
    "        :return: {Plot Title: plot}, plot\n",
    "        \"\"\"\n",
    "        if str(type(title)) != \"<class 'str'>\":\n",
    "            title = input('Title must be be a string: ')\n",
    "        else:\n",
    "            self.plots[title] = plot\n",
    "        return plot"
   ]
  },
  {
   "cell_type": "markdown",
   "metadata": {},
   "source": [
    "# Init Session Object"
   ]
  },
  {
   "cell_type": "code",
   "execution_count": 2,
   "metadata": {},
   "outputs": [
    {
     "name": "stdout",
     "output_type": "stream",
     "text": [
      "Connection to MySQL database stackexchange_travel successful.\n"
     ]
    }
   ],
   "source": [
    "session = MySQL2PandasDF(host = 'localhost', db = 'stackexchange_travel', user = 'root', password = password)"
   ]
  },
  {
   "cell_type": "markdown",
   "metadata": {},
   "source": [
    "## db2df method parses the entirety of a database to dict of pandas dfs"
   ]
  },
  {
   "cell_type": "code",
   "execution_count": 3,
   "metadata": {},
   "outputs": [
    {
     "name": "stderr",
     "output_type": "stream",
     "text": [
      "C:\\Users\\jeffe\\Anaconda3\\lib\\site-packages\\sqlalchemy\\dialects\\mysql\\base.py:1546: Warning: (1287, \"'@@tx_isolation' is deprecated and will be removed in a future release. Please use '@@transaction_isolation' instead\")\n",
      "  cursor.execute('SELECT @@tx_isolation')\n"
     ]
    }
   ],
   "source": [
    "session.db2df()"
   ]
  },
  {
   "cell_type": "markdown",
   "metadata": {},
   "source": [
    "Underlying structure is a dictionary with the following format:\n",
    "\n",
    "{Table Name: df}"
   ]
  },
  {
   "cell_type": "code",
   "execution_count": 4,
   "metadata": {},
   "outputs": [
    {
     "data": {
      "text/plain": [
       "dict_keys(['badges', 'comments', 'posthistory', 'postlinks', 'posts', 'tags', 'users', 'votes'])"
      ]
     },
     "execution_count": 4,
     "metadata": {},
     "output_type": "execute_result"
    }
   ],
   "source": [
    "# tables in our dictionary\n",
    "\n",
    "session.source.keys()"
   ]
  },
  {
   "cell_type": "markdown",
   "metadata": {},
   "source": [
    "## Head of every table in database"
   ]
  },
  {
   "cell_type": "code",
   "execution_count": 5,
   "metadata": {},
   "outputs": [
    {
     "data": {
      "text/html": [
       "<div>\n",
       "<style>\n",
       "    .dataframe thead tr:only-child th {\n",
       "        text-align: right;\n",
       "    }\n",
       "\n",
       "    .dataframe thead th {\n",
       "        text-align: left;\n",
       "    }\n",
       "\n",
       "    .dataframe tbody tr th {\n",
       "        vertical-align: top;\n",
       "    }\n",
       "</style>\n",
       "<table border=\"1\" class=\"dataframe\">\n",
       "  <thead>\n",
       "    <tr style=\"text-align: right;\">\n",
       "      <th></th>\n",
       "      <th>index</th>\n",
       "      <th>class</th>\n",
       "      <th>Date</th>\n",
       "      <th>id</th>\n",
       "      <th>Name</th>\n",
       "      <th>TagBased</th>\n",
       "      <th>userId</th>\n",
       "    </tr>\n",
       "  </thead>\n",
       "  <tbody>\n",
       "    <tr>\n",
       "      <th>0</th>\n",
       "      <td>0</td>\n",
       "      <td>3</td>\n",
       "      <td>2011-06-21 20:16:49</td>\n",
       "      <td>1</td>\n",
       "      <td>Autobiographer</td>\n",
       "      <td>False</td>\n",
       "      <td>2</td>\n",
       "    </tr>\n",
       "    <tr>\n",
       "      <th>1</th>\n",
       "      <td>1</td>\n",
       "      <td>3</td>\n",
       "      <td>2011-06-21 20:16:49</td>\n",
       "      <td>2</td>\n",
       "      <td>Autobiographer</td>\n",
       "      <td>False</td>\n",
       "      <td>3</td>\n",
       "    </tr>\n",
       "    <tr>\n",
       "      <th>2</th>\n",
       "      <td>2</td>\n",
       "      <td>3</td>\n",
       "      <td>2011-06-21 20:16:49</td>\n",
       "      <td>3</td>\n",
       "      <td>Autobiographer</td>\n",
       "      <td>False</td>\n",
       "      <td>4</td>\n",
       "    </tr>\n",
       "    <tr>\n",
       "      <th>3</th>\n",
       "      <td>3</td>\n",
       "      <td>3</td>\n",
       "      <td>2011-06-21 20:21:49</td>\n",
       "      <td>4</td>\n",
       "      <td>Autobiographer</td>\n",
       "      <td>False</td>\n",
       "      <td>6</td>\n",
       "    </tr>\n",
       "    <tr>\n",
       "      <th>4</th>\n",
       "      <td>4</td>\n",
       "      <td>3</td>\n",
       "      <td>2011-06-21 20:21:49</td>\n",
       "      <td>5</td>\n",
       "      <td>Autobiographer</td>\n",
       "      <td>False</td>\n",
       "      <td>8</td>\n",
       "    </tr>\n",
       "  </tbody>\n",
       "</table>\n",
       "</div>"
      ],
      "text/plain": [
       "   index  class                Date  id            Name TagBased  userId\n",
       "0      0      3 2011-06-21 20:16:49   1  Autobiographer    False       2\n",
       "1      1      3 2011-06-21 20:16:49   2  Autobiographer    False       3\n",
       "2      2      3 2011-06-21 20:16:49   3  Autobiographer    False       4\n",
       "3      3      3 2011-06-21 20:21:49   4  Autobiographer    False       6\n",
       "4      4      3 2011-06-21 20:21:49   5  Autobiographer    False       8"
      ]
     },
     "execution_count": 5,
     "metadata": {},
     "output_type": "execute_result"
    }
   ],
   "source": [
    "session.source['badges'].head()"
   ]
  },
  {
   "cell_type": "code",
   "execution_count": 6,
   "metadata": {},
   "outputs": [
    {
     "data": {
      "text/html": [
       "<div>\n",
       "<style>\n",
       "    .dataframe thead tr:only-child th {\n",
       "        text-align: right;\n",
       "    }\n",
       "\n",
       "    .dataframe thead th {\n",
       "        text-align: left;\n",
       "    }\n",
       "\n",
       "    .dataframe tbody tr th {\n",
       "        vertical-align: top;\n",
       "    }\n",
       "</style>\n",
       "<table border=\"1\" class=\"dataframe\">\n",
       "  <thead>\n",
       "    <tr style=\"text-align: right;\">\n",
       "      <th></th>\n",
       "      <th>index</th>\n",
       "      <th>CreationDate</th>\n",
       "      <th>Id</th>\n",
       "      <th>PostId</th>\n",
       "      <th>score</th>\n",
       "      <th>Text</th>\n",
       "      <th>UserDisplayName</th>\n",
       "      <th>userId</th>\n",
       "    </tr>\n",
       "  </thead>\n",
       "  <tbody>\n",
       "    <tr>\n",
       "      <th>0</th>\n",
       "      <td>0</td>\n",
       "      <td>2011-06-21 20:25:14</td>\n",
       "      <td>1</td>\n",
       "      <td>1</td>\n",
       "      <td>0</td>\n",
       "      <td>To help with the cruise line question: Where a...</td>\n",
       "      <td>None</td>\n",
       "      <td>12.0</td>\n",
       "    </tr>\n",
       "    <tr>\n",
       "      <th>1</th>\n",
       "      <td>1</td>\n",
       "      <td>2011-06-21 20:27:35</td>\n",
       "      <td>2</td>\n",
       "      <td>1</td>\n",
       "      <td>0</td>\n",
       "      <td>Toronto, Ontario. We can fly out of anywhere t...</td>\n",
       "      <td>None</td>\n",
       "      <td>9.0</td>\n",
       "    </tr>\n",
       "    <tr>\n",
       "      <th>2</th>\n",
       "      <td>2</td>\n",
       "      <td>2011-06-21 20:32:24</td>\n",
       "      <td>3</td>\n",
       "      <td>1</td>\n",
       "      <td>3</td>\n",
       "      <td>\"Best\" for what?  Please read [this page](http...</td>\n",
       "      <td>None</td>\n",
       "      <td>20.0</td>\n",
       "    </tr>\n",
       "    <tr>\n",
       "      <th>3</th>\n",
       "      <td>3</td>\n",
       "      <td>2011-06-21 20:42:08</td>\n",
       "      <td>9</td>\n",
       "      <td>25</td>\n",
       "      <td>0</td>\n",
       "      <td>Are you in the UK? If so, would be helpful to ...</td>\n",
       "      <td>None</td>\n",
       "      <td>30.0</td>\n",
       "    </tr>\n",
       "    <tr>\n",
       "      <th>4</th>\n",
       "      <td>4</td>\n",
       "      <td>2011-06-21 20:44:10</td>\n",
       "      <td>12</td>\n",
       "      <td>26</td>\n",
       "      <td>3</td>\n",
       "      <td>Where are you starting from, and what sort of ...</td>\n",
       "      <td>None</td>\n",
       "      <td>26.0</td>\n",
       "    </tr>\n",
       "  </tbody>\n",
       "</table>\n",
       "</div>"
      ],
      "text/plain": [
       "   index        CreationDate  Id  PostId  score  \\\n",
       "0      0 2011-06-21 20:25:14   1       1      0   \n",
       "1      1 2011-06-21 20:27:35   2       1      0   \n",
       "2      2 2011-06-21 20:32:24   3       1      3   \n",
       "3      3 2011-06-21 20:42:08   9      25      0   \n",
       "4      4 2011-06-21 20:44:10  12      26      3   \n",
       "\n",
       "                                                Text UserDisplayName  userId  \n",
       "0  To help with the cruise line question: Where a...            None    12.0  \n",
       "1  Toronto, Ontario. We can fly out of anywhere t...            None     9.0  \n",
       "2  \"Best\" for what?  Please read [this page](http...            None    20.0  \n",
       "3  Are you in the UK? If so, would be helpful to ...            None    30.0  \n",
       "4  Where are you starting from, and what sort of ...            None    26.0  "
      ]
     },
     "execution_count": 6,
     "metadata": {},
     "output_type": "execute_result"
    }
   ],
   "source": [
    "session.source['comments'].head()"
   ]
  },
  {
   "cell_type": "code",
   "execution_count": 7,
   "metadata": {},
   "outputs": [
    {
     "data": {
      "text/html": [
       "<div>\n",
       "<style>\n",
       "    .dataframe thead tr:only-child th {\n",
       "        text-align: right;\n",
       "    }\n",
       "\n",
       "    .dataframe thead th {\n",
       "        text-align: left;\n",
       "    }\n",
       "\n",
       "    .dataframe tbody tr th {\n",
       "        vertical-align: top;\n",
       "    }\n",
       "</style>\n",
       "<table border=\"1\" class=\"dataframe\">\n",
       "  <thead>\n",
       "    <tr style=\"text-align: right;\">\n",
       "      <th></th>\n",
       "      <th>index</th>\n",
       "      <th>Comment</th>\n",
       "      <th>CreationDate</th>\n",
       "      <th>Id</th>\n",
       "      <th>PostHistoryTypeId</th>\n",
       "      <th>PostID</th>\n",
       "      <th>RevisionGUID</th>\n",
       "      <th>Text</th>\n",
       "      <th>UserDisplayName</th>\n",
       "      <th>UserId</th>\n",
       "    </tr>\n",
       "  </thead>\n",
       "  <tbody>\n",
       "    <tr>\n",
       "      <th>0</th>\n",
       "      <td>0</td>\n",
       "      <td>None</td>\n",
       "      <td>2011-06-21 20:19:35</td>\n",
       "      <td>1</td>\n",
       "      <td>2</td>\n",
       "      <td>1</td>\n",
       "      <td>1e04af17-3bdb-4263-aa46-97ee7fb1b0b6</td>\n",
       "      <td>My finance and myself are looking for a good C...</td>\n",
       "      <td>None</td>\n",
       "      <td>9.0</td>\n",
       "    </tr>\n",
       "    <tr>\n",
       "      <th>1</th>\n",
       "      <td>1</td>\n",
       "      <td>None</td>\n",
       "      <td>2011-06-21 20:19:35</td>\n",
       "      <td>2</td>\n",
       "      <td>1</td>\n",
       "      <td>1</td>\n",
       "      <td>1e04af17-3bdb-4263-aa46-97ee7fb1b0b6</td>\n",
       "      <td>What's the best Caribbean cruise for October</td>\n",
       "      <td>None</td>\n",
       "      <td>9.0</td>\n",
       "    </tr>\n",
       "    <tr>\n",
       "      <th>2</th>\n",
       "      <td>2</td>\n",
       "      <td>None</td>\n",
       "      <td>2011-06-21 20:19:35</td>\n",
       "      <td>3</td>\n",
       "      <td>3</td>\n",
       "      <td>1</td>\n",
       "      <td>1e04af17-3bdb-4263-aa46-97ee7fb1b0b6</td>\n",
       "      <td>&lt;caribbean&gt;&lt;cruising&gt;&lt;vacations&gt;</td>\n",
       "      <td>None</td>\n",
       "      <td>9.0</td>\n",
       "    </tr>\n",
       "    <tr>\n",
       "      <th>3</th>\n",
       "      <td>3</td>\n",
       "      <td>None</td>\n",
       "      <td>2011-06-21 20:22:34</td>\n",
       "      <td>4</td>\n",
       "      <td>2</td>\n",
       "      <td>2</td>\n",
       "      <td>58500a29-b9ed-4802-9934-c173ce362758</td>\n",
       "      <td>This was one of our definition questions, but ...</td>\n",
       "      <td>None</td>\n",
       "      <td>13.0</td>\n",
       "    </tr>\n",
       "    <tr>\n",
       "      <th>4</th>\n",
       "      <td>4</td>\n",
       "      <td>None</td>\n",
       "      <td>2011-06-21 20:22:34</td>\n",
       "      <td>5</td>\n",
       "      <td>1</td>\n",
       "      <td>2</td>\n",
       "      <td>58500a29-b9ed-4802-9934-c173ce362758</td>\n",
       "      <td>How can I find a guide that will take me safel...</td>\n",
       "      <td>None</td>\n",
       "      <td>13.0</td>\n",
       "    </tr>\n",
       "  </tbody>\n",
       "</table>\n",
       "</div>"
      ],
      "text/plain": [
       "   index Comment        CreationDate  Id  PostHistoryTypeId  PostID  \\\n",
       "0      0    None 2011-06-21 20:19:35   1                  2       1   \n",
       "1      1    None 2011-06-21 20:19:35   2                  1       1   \n",
       "2      2    None 2011-06-21 20:19:35   3                  3       1   \n",
       "3      3    None 2011-06-21 20:22:34   4                  2       2   \n",
       "4      4    None 2011-06-21 20:22:34   5                  1       2   \n",
       "\n",
       "                           RevisionGUID  \\\n",
       "0  1e04af17-3bdb-4263-aa46-97ee7fb1b0b6   \n",
       "1  1e04af17-3bdb-4263-aa46-97ee7fb1b0b6   \n",
       "2  1e04af17-3bdb-4263-aa46-97ee7fb1b0b6   \n",
       "3  58500a29-b9ed-4802-9934-c173ce362758   \n",
       "4  58500a29-b9ed-4802-9934-c173ce362758   \n",
       "\n",
       "                                                Text UserDisplayName  UserId  \n",
       "0  My finance and myself are looking for a good C...            None     9.0  \n",
       "1       What's the best Caribbean cruise for October            None     9.0  \n",
       "2                   <caribbean><cruising><vacations>            None     9.0  \n",
       "3  This was one of our definition questions, but ...            None    13.0  \n",
       "4  How can I find a guide that will take me safel...            None    13.0  "
      ]
     },
     "execution_count": 7,
     "metadata": {},
     "output_type": "execute_result"
    }
   ],
   "source": [
    "session.source['posthistory'].head()"
   ]
  },
  {
   "cell_type": "code",
   "execution_count": 8,
   "metadata": {},
   "outputs": [
    {
     "data": {
      "text/html": [
       "<div>\n",
       "<style>\n",
       "    .dataframe thead tr:only-child th {\n",
       "        text-align: right;\n",
       "    }\n",
       "\n",
       "    .dataframe thead th {\n",
       "        text-align: left;\n",
       "    }\n",
       "\n",
       "    .dataframe tbody tr th {\n",
       "        vertical-align: top;\n",
       "    }\n",
       "</style>\n",
       "<table border=\"1\" class=\"dataframe\">\n",
       "  <thead>\n",
       "    <tr style=\"text-align: right;\">\n",
       "      <th></th>\n",
       "      <th>index</th>\n",
       "      <th>CreationDate</th>\n",
       "      <th>Id</th>\n",
       "      <th>LinkTypeId</th>\n",
       "      <th>PostId</th>\n",
       "      <th>RelatedPostId</th>\n",
       "    </tr>\n",
       "  </thead>\n",
       "  <tbody>\n",
       "    <tr>\n",
       "      <th>0</th>\n",
       "      <td>0</td>\n",
       "      <td>2011-06-21 20:49:20</td>\n",
       "      <td>168</td>\n",
       "      <td>1</td>\n",
       "      <td>28</td>\n",
       "      <td>25</td>\n",
       "    </tr>\n",
       "    <tr>\n",
       "      <th>1</th>\n",
       "      <td>1</td>\n",
       "      <td>2011-06-21 22:55:01</td>\n",
       "      <td>1304</td>\n",
       "      <td>1</td>\n",
       "      <td>110</td>\n",
       "      <td>10</td>\n",
       "    </tr>\n",
       "    <tr>\n",
       "      <th>2</th>\n",
       "      <td>2</td>\n",
       "      <td>2011-06-22 11:58:40</td>\n",
       "      <td>2930</td>\n",
       "      <td>1</td>\n",
       "      <td>203</td>\n",
       "      <td>185</td>\n",
       "    </tr>\n",
       "    <tr>\n",
       "      <th>3</th>\n",
       "      <td>3</td>\n",
       "      <td>2011-06-22 12:32:01</td>\n",
       "      <td>2981</td>\n",
       "      <td>1</td>\n",
       "      <td>189</td>\n",
       "      <td>105</td>\n",
       "    </tr>\n",
       "    <tr>\n",
       "      <th>4</th>\n",
       "      <td>4</td>\n",
       "      <td>2011-06-22 20:56:21</td>\n",
       "      <td>3507</td>\n",
       "      <td>1</td>\n",
       "      <td>226</td>\n",
       "      <td>185</td>\n",
       "    </tr>\n",
       "  </tbody>\n",
       "</table>\n",
       "</div>"
      ],
      "text/plain": [
       "   index        CreationDate    Id  LinkTypeId  PostId RelatedPostId\n",
       "0      0 2011-06-21 20:49:20   168           1      28            25\n",
       "1      1 2011-06-21 22:55:01  1304           1     110            10\n",
       "2      2 2011-06-22 11:58:40  2930           1     203           185\n",
       "3      3 2011-06-22 12:32:01  2981           1     189           105\n",
       "4      4 2011-06-22 20:56:21  3507           1     226           185"
      ]
     },
     "execution_count": 8,
     "metadata": {},
     "output_type": "execute_result"
    }
   ],
   "source": [
    "session.source['postlinks'].head()"
   ]
  },
  {
   "cell_type": "code",
   "execution_count": 9,
   "metadata": {},
   "outputs": [
    {
     "data": {
      "text/html": [
       "<div>\n",
       "<style>\n",
       "    .dataframe thead tr:only-child th {\n",
       "        text-align: right;\n",
       "    }\n",
       "\n",
       "    .dataframe thead th {\n",
       "        text-align: left;\n",
       "    }\n",
       "\n",
       "    .dataframe tbody tr th {\n",
       "        vertical-align: top;\n",
       "    }\n",
       "</style>\n",
       "<table border=\"1\" class=\"dataframe\">\n",
       "  <thead>\n",
       "    <tr style=\"text-align: right;\">\n",
       "      <th></th>\n",
       "      <th>index</th>\n",
       "      <th>AcceptedAnswerId</th>\n",
       "      <th>AnswerCount</th>\n",
       "      <th>Body</th>\n",
       "      <th>ClosedDate</th>\n",
       "      <th>CommentCount</th>\n",
       "      <th>CommunityOwnedDate</th>\n",
       "      <th>CreationDate</th>\n",
       "      <th>FavoriteCount</th>\n",
       "      <th>Id</th>\n",
       "      <th>...</th>\n",
       "      <th>LastEditorDisplayName</th>\n",
       "      <th>LastEditorUserId</th>\n",
       "      <th>OwnerDisplayName</th>\n",
       "      <th>OwnerUserId</th>\n",
       "      <th>ParentId</th>\n",
       "      <th>PostTypeId</th>\n",
       "      <th>Score</th>\n",
       "      <th>Tags</th>\n",
       "      <th>Title</th>\n",
       "      <th>ViewCount</th>\n",
       "    </tr>\n",
       "  </thead>\n",
       "  <tbody>\n",
       "    <tr>\n",
       "      <th>0</th>\n",
       "      <td>0</td>\n",
       "      <td>393</td>\n",
       "      <td>4</td>\n",
       "      <td>&lt;p&gt;My fiancée and I are looking for a good Car...</td>\n",
       "      <td>2013-02-25T23:52:47.953</td>\n",
       "      <td>4</td>\n",
       "      <td>NaT</td>\n",
       "      <td>2011-06-21T20:19:34.730</td>\n",
       "      <td>NaN</td>\n",
       "      <td>1</td>\n",
       "      <td>...</td>\n",
       "      <td>None</td>\n",
       "      <td>101.0</td>\n",
       "      <td>None</td>\n",
       "      <td>9.0</td>\n",
       "      <td>NaN</td>\n",
       "      <td>1</td>\n",
       "      <td>8</td>\n",
       "      <td>&lt;caribbean&gt;&lt;cruising&gt;&lt;vacations&gt;</td>\n",
       "      <td>What are some Caribbean cruises for October?</td>\n",
       "      <td>419.0</td>\n",
       "    </tr>\n",
       "    <tr>\n",
       "      <th>1</th>\n",
       "      <td>1</td>\n",
       "      <td>None</td>\n",
       "      <td>7</td>\n",
       "      <td>&lt;p&gt;This was one of our definition questions, b...</td>\n",
       "      <td>None</td>\n",
       "      <td>4</td>\n",
       "      <td>NaT</td>\n",
       "      <td>2011-06-21T20:22:33.760</td>\n",
       "      <td>5.0</td>\n",
       "      <td>2</td>\n",
       "      <td>...</td>\n",
       "      <td>None</td>\n",
       "      <td>13.0</td>\n",
       "      <td>None</td>\n",
       "      <td>13.0</td>\n",
       "      <td>NaN</td>\n",
       "      <td>1</td>\n",
       "      <td>32</td>\n",
       "      <td>&lt;guides&gt;&lt;extreme-tourism&gt;&lt;amazon-river&gt;&lt;amazon...</td>\n",
       "      <td>How can I find a guide that will take me safel...</td>\n",
       "      <td>1399.0</td>\n",
       "    </tr>\n",
       "    <tr>\n",
       "      <th>2</th>\n",
       "      <td>2</td>\n",
       "      <td>None</td>\n",
       "      <td>None</td>\n",
       "      <td>&lt;p&gt;One way would be to go through an Adventure...</td>\n",
       "      <td>None</td>\n",
       "      <td>2</td>\n",
       "      <td>NaT</td>\n",
       "      <td>2011-06-21T20:24:28.080</td>\n",
       "      <td>NaN</td>\n",
       "      <td>3</td>\n",
       "      <td>...</td>\n",
       "      <td>None</td>\n",
       "      <td>NaN</td>\n",
       "      <td>None</td>\n",
       "      <td>9.0</td>\n",
       "      <td>2.0</td>\n",
       "      <td>2</td>\n",
       "      <td>12</td>\n",
       "      <td>None</td>\n",
       "      <td>None</td>\n",
       "      <td>NaN</td>\n",
       "    </tr>\n",
       "    <tr>\n",
       "      <th>3</th>\n",
       "      <td>3</td>\n",
       "      <td>None</td>\n",
       "      <td>1</td>\n",
       "      <td>&lt;p&gt;Singapore Airlines has an all-business clas...</td>\n",
       "      <td>None</td>\n",
       "      <td>1</td>\n",
       "      <td>NaT</td>\n",
       "      <td>2011-06-21T20:24:57.160</td>\n",
       "      <td>NaN</td>\n",
       "      <td>4</td>\n",
       "      <td>...</td>\n",
       "      <td>None</td>\n",
       "      <td>693.0</td>\n",
       "      <td>None</td>\n",
       "      <td>24.0</td>\n",
       "      <td>NaN</td>\n",
       "      <td>1</td>\n",
       "      <td>8</td>\n",
       "      <td>&lt;loyalty-programs&gt;&lt;routes&gt;&lt;ewr&gt;&lt;singapore-airl...</td>\n",
       "      <td>Does Singapore Airlines offer any reward seats...</td>\n",
       "      <td>243.0</td>\n",
       "    </tr>\n",
       "    <tr>\n",
       "      <th>4</th>\n",
       "      <td>4</td>\n",
       "      <td>770</td>\n",
       "      <td>5</td>\n",
       "      <td>&lt;p&gt;Another definition question that interested...</td>\n",
       "      <td>None</td>\n",
       "      <td>0</td>\n",
       "      <td>NaT</td>\n",
       "      <td>2011-06-21T20:25:56.787</td>\n",
       "      <td>2.0</td>\n",
       "      <td>5</td>\n",
       "      <td>...</td>\n",
       "      <td>None</td>\n",
       "      <td>101.0</td>\n",
       "      <td>None</td>\n",
       "      <td>13.0</td>\n",
       "      <td>NaN</td>\n",
       "      <td>1</td>\n",
       "      <td>14</td>\n",
       "      <td>&lt;romania&gt;&lt;transportation&gt;</td>\n",
       "      <td>What is the easiest transportation to use thro...</td>\n",
       "      <td>395.0</td>\n",
       "    </tr>\n",
       "  </tbody>\n",
       "</table>\n",
       "<p>5 rows × 22 columns</p>\n",
       "</div>"
      ],
      "text/plain": [
       "   index AcceptedAnswerId AnswerCount  \\\n",
       "0      0              393           4   \n",
       "1      1             None           7   \n",
       "2      2             None        None   \n",
       "3      3             None           1   \n",
       "4      4              770           5   \n",
       "\n",
       "                                                Body               ClosedDate  \\\n",
       "0  <p>My fiancée and I are looking for a good Car...  2013-02-25T23:52:47.953   \n",
       "1  <p>This was one of our definition questions, b...                     None   \n",
       "2  <p>One way would be to go through an Adventure...                     None   \n",
       "3  <p>Singapore Airlines has an all-business clas...                     None   \n",
       "4  <p>Another definition question that interested...                     None   \n",
       "\n",
       "  CommentCount CommunityOwnedDate             CreationDate  FavoriteCount  Id  \\\n",
       "0            4                NaT  2011-06-21T20:19:34.730            NaN   1   \n",
       "1            4                NaT  2011-06-21T20:22:33.760            5.0   2   \n",
       "2            2                NaT  2011-06-21T20:24:28.080            NaN   3   \n",
       "3            1                NaT  2011-06-21T20:24:57.160            NaN   4   \n",
       "4            0                NaT  2011-06-21T20:25:56.787            2.0   5   \n",
       "\n",
       "     ...    LastEditorDisplayName LastEditorUserId OwnerDisplayName  \\\n",
       "0    ...                     None            101.0             None   \n",
       "1    ...                     None             13.0             None   \n",
       "2    ...                     None              NaN             None   \n",
       "3    ...                     None            693.0             None   \n",
       "4    ...                     None            101.0             None   \n",
       "\n",
       "   OwnerUserId ParentId  PostTypeId  Score  \\\n",
       "0          9.0      NaN           1      8   \n",
       "1         13.0      NaN           1     32   \n",
       "2          9.0      2.0           2     12   \n",
       "3         24.0      NaN           1      8   \n",
       "4         13.0      NaN           1     14   \n",
       "\n",
       "                                                Tags  \\\n",
       "0                   <caribbean><cruising><vacations>   \n",
       "1  <guides><extreme-tourism><amazon-river><amazon...   \n",
       "2                                               None   \n",
       "3  <loyalty-programs><routes><ewr><singapore-airl...   \n",
       "4                          <romania><transportation>   \n",
       "\n",
       "                                               Title ViewCount  \n",
       "0       What are some Caribbean cruises for October?     419.0  \n",
       "1  How can I find a guide that will take me safel...    1399.0  \n",
       "2                                               None       NaN  \n",
       "3  Does Singapore Airlines offer any reward seats...     243.0  \n",
       "4  What is the easiest transportation to use thro...     395.0  \n",
       "\n",
       "[5 rows x 22 columns]"
      ]
     },
     "execution_count": 9,
     "metadata": {},
     "output_type": "execute_result"
    }
   ],
   "source": [
    "session.source['posts'].head()"
   ]
  },
  {
   "cell_type": "code",
   "execution_count": 10,
   "metadata": {},
   "outputs": [
    {
     "data": {
      "text/html": [
       "<div>\n",
       "<style>\n",
       "    .dataframe thead tr:only-child th {\n",
       "        text-align: right;\n",
       "    }\n",
       "\n",
       "    .dataframe thead th {\n",
       "        text-align: left;\n",
       "    }\n",
       "\n",
       "    .dataframe tbody tr th {\n",
       "        vertical-align: top;\n",
       "    }\n",
       "</style>\n",
       "<table border=\"1\" class=\"dataframe\">\n",
       "  <thead>\n",
       "    <tr style=\"text-align: right;\">\n",
       "      <th></th>\n",
       "      <th>index</th>\n",
       "      <th>Count</th>\n",
       "      <th>ExcerptPostId</th>\n",
       "      <th>Id</th>\n",
       "      <th>TagName</th>\n",
       "      <th>WikiPostId</th>\n",
       "    </tr>\n",
       "  </thead>\n",
       "  <tbody>\n",
       "    <tr>\n",
       "      <th>0</th>\n",
       "      <td>0</td>\n",
       "      <td>104</td>\n",
       "      <td>2138.0</td>\n",
       "      <td>1</td>\n",
       "      <td>cruising</td>\n",
       "      <td>2137.0</td>\n",
       "    </tr>\n",
       "    <tr>\n",
       "      <th>1</th>\n",
       "      <td>1</td>\n",
       "      <td>43</td>\n",
       "      <td>357.0</td>\n",
       "      <td>2</td>\n",
       "      <td>caribbean</td>\n",
       "      <td>356.0</td>\n",
       "    </tr>\n",
       "    <tr>\n",
       "      <th>2</th>\n",
       "      <td>2</td>\n",
       "      <td>43</td>\n",
       "      <td>319.0</td>\n",
       "      <td>4</td>\n",
       "      <td>vacations</td>\n",
       "      <td>318.0</td>\n",
       "    </tr>\n",
       "    <tr>\n",
       "      <th>3</th>\n",
       "      <td>3</td>\n",
       "      <td>8</td>\n",
       "      <td>14548.0</td>\n",
       "      <td>6</td>\n",
       "      <td>amazon-river</td>\n",
       "      <td>14547.0</td>\n",
       "    </tr>\n",
       "    <tr>\n",
       "      <th>4</th>\n",
       "      <td>4</td>\n",
       "      <td>100</td>\n",
       "      <td>1792.0</td>\n",
       "      <td>8</td>\n",
       "      <td>romania</td>\n",
       "      <td>1791.0</td>\n",
       "    </tr>\n",
       "  </tbody>\n",
       "</table>\n",
       "</div>"
      ],
      "text/plain": [
       "   index  Count  ExcerptPostId  Id       TagName  WikiPostId\n",
       "0      0    104         2138.0   1      cruising      2137.0\n",
       "1      1     43          357.0   2     caribbean       356.0\n",
       "2      2     43          319.0   4     vacations       318.0\n",
       "3      3      8        14548.0   6  amazon-river     14547.0\n",
       "4      4    100         1792.0   8       romania      1791.0"
      ]
     },
     "execution_count": 10,
     "metadata": {},
     "output_type": "execute_result"
    }
   ],
   "source": [
    "session.source['tags'].head()"
   ]
  },
  {
   "cell_type": "code",
   "execution_count": 11,
   "metadata": {},
   "outputs": [
    {
     "data": {
      "text/html": [
       "<div>\n",
       "<style>\n",
       "    .dataframe thead tr:only-child th {\n",
       "        text-align: right;\n",
       "    }\n",
       "\n",
       "    .dataframe thead th {\n",
       "        text-align: left;\n",
       "    }\n",
       "\n",
       "    .dataframe tbody tr th {\n",
       "        vertical-align: top;\n",
       "    }\n",
       "</style>\n",
       "<table border=\"1\" class=\"dataframe\">\n",
       "  <thead>\n",
       "    <tr style=\"text-align: right;\">\n",
       "      <th></th>\n",
       "      <th>index</th>\n",
       "      <th>AboutMe</th>\n",
       "      <th>accountid</th>\n",
       "      <th>age</th>\n",
       "      <th>CreationDate</th>\n",
       "      <th>DisplayName</th>\n",
       "      <th>downvotes</th>\n",
       "      <th>Id</th>\n",
       "      <th>LastAccessDate</th>\n",
       "      <th>Location</th>\n",
       "      <th>ProfileImageUrl</th>\n",
       "      <th>reputation</th>\n",
       "      <th>upvotes</th>\n",
       "      <th>Views</th>\n",
       "      <th>WebsiteUrl</th>\n",
       "    </tr>\n",
       "  </thead>\n",
       "  <tbody>\n",
       "    <tr>\n",
       "      <th>0</th>\n",
       "      <td>0</td>\n",
       "      <td>&lt;p&gt;Hi, I'm not really a person.&lt;/p&gt;\\n\\n&lt;p&gt;I'm ...</td>\n",
       "      <td>-1.0</td>\n",
       "      <td>NaN</td>\n",
       "      <td>2011-06-21T15:16:44.253</td>\n",
       "      <td>Community</td>\n",
       "      <td>12646</td>\n",
       "      <td>-1</td>\n",
       "      <td>2011-06-21T15:16:44.253</td>\n",
       "      <td>on the server farm</td>\n",
       "      <td>None</td>\n",
       "      <td>1</td>\n",
       "      <td>2472</td>\n",
       "      <td>0</td>\n",
       "      <td>http://meta.stackexchange.com/</td>\n",
       "    </tr>\n",
       "    <tr>\n",
       "      <th>1</th>\n",
       "      <td>1</td>\n",
       "      <td>&lt;p&gt;Developer on the Stack Overflow team.  Find...</td>\n",
       "      <td>2.0</td>\n",
       "      <td>40.0</td>\n",
       "      <td>2011-06-21T20:10:03.720</td>\n",
       "      <td>Geoff Dalgas</td>\n",
       "      <td>0</td>\n",
       "      <td>2</td>\n",
       "      <td>2016-05-29T01:18:20.767</td>\n",
       "      <td>Corvallis, OR</td>\n",
       "      <td>None</td>\n",
       "      <td>101</td>\n",
       "      <td>1</td>\n",
       "      <td>31</td>\n",
       "      <td>http://stackoverflow.com</td>\n",
       "    </tr>\n",
       "    <tr>\n",
       "      <th>2</th>\n",
       "      <td>2</td>\n",
       "      <td>&lt;p&gt;I am the &lt;a href=\"http://stackoverflow.com/...</td>\n",
       "      <td>7598.0</td>\n",
       "      <td>32.0</td>\n",
       "      <td>2011-06-21T20:11:02.490</td>\n",
       "      <td>Nick Craver</td>\n",
       "      <td>0</td>\n",
       "      <td>3</td>\n",
       "      <td>2015-09-14T12:03:40.247</td>\n",
       "      <td>Winston-Salem, NC</td>\n",
       "      <td>https://i.stack.imgur.com/nGCYr.jpg?s=128&amp;g=1</td>\n",
       "      <td>101</td>\n",
       "      <td>1</td>\n",
       "      <td>14</td>\n",
       "      <td>https://nickcraver.com/blog/</td>\n",
       "    </tr>\n",
       "    <tr>\n",
       "      <th>3</th>\n",
       "      <td>3</td>\n",
       "      <td>&lt;p&gt;co-founder of &lt;a href=\"https://airtable.com...</td>\n",
       "      <td>1998.0</td>\n",
       "      <td>31.0</td>\n",
       "      <td>2011-06-21T20:12:21.223</td>\n",
       "      <td>Emmett</td>\n",
       "      <td>0</td>\n",
       "      <td>4</td>\n",
       "      <td>2013-03-01T22:30:26.790</td>\n",
       "      <td>San Francisco, CA</td>\n",
       "      <td>https://i.stack.imgur.com/d1oHX.jpg?s=128&amp;g=1</td>\n",
       "      <td>101</td>\n",
       "      <td>1</td>\n",
       "      <td>10</td>\n",
       "      <td>http://minesweeperonline.com</td>\n",
       "    </tr>\n",
       "    <tr>\n",
       "      <th>4</th>\n",
       "      <td>4</td>\n",
       "      <td>&lt;p&gt;&lt;a href=\"http://blog.stackoverflow.com/2010...</td>\n",
       "      <td>29738.0</td>\n",
       "      <td>NaN</td>\n",
       "      <td>2011-06-21T20:15:31.410</td>\n",
       "      <td>Kevin Montrose</td>\n",
       "      <td>0</td>\n",
       "      <td>5</td>\n",
       "      <td>2017-02-07T02:24:34.733</td>\n",
       "      <td>New York, NY, United States</td>\n",
       "      <td>None</td>\n",
       "      <td>101</td>\n",
       "      <td>1</td>\n",
       "      <td>11</td>\n",
       "      <td>http://kevinmontrose.com/</td>\n",
       "    </tr>\n",
       "  </tbody>\n",
       "</table>\n",
       "</div>"
      ],
      "text/plain": [
       "   index                                            AboutMe  accountid   age  \\\n",
       "0      0  <p>Hi, I'm not really a person.</p>\\n\\n<p>I'm ...       -1.0   NaN   \n",
       "1      1  <p>Developer on the Stack Overflow team.  Find...        2.0  40.0   \n",
       "2      2  <p>I am the <a href=\"http://stackoverflow.com/...     7598.0  32.0   \n",
       "3      3  <p>co-founder of <a href=\"https://airtable.com...     1998.0  31.0   \n",
       "4      4  <p><a href=\"http://blog.stackoverflow.com/2010...    29738.0   NaN   \n",
       "\n",
       "              CreationDate     DisplayName  downvotes  Id  \\\n",
       "0  2011-06-21T15:16:44.253       Community      12646  -1   \n",
       "1  2011-06-21T20:10:03.720    Geoff Dalgas          0   2   \n",
       "2  2011-06-21T20:11:02.490     Nick Craver          0   3   \n",
       "3  2011-06-21T20:12:21.223          Emmett          0   4   \n",
       "4  2011-06-21T20:15:31.410  Kevin Montrose          0   5   \n",
       "\n",
       "            LastAccessDate                     Location  \\\n",
       "0  2011-06-21T15:16:44.253           on the server farm   \n",
       "1  2016-05-29T01:18:20.767                Corvallis, OR   \n",
       "2  2015-09-14T12:03:40.247            Winston-Salem, NC   \n",
       "3  2013-03-01T22:30:26.790            San Francisco, CA   \n",
       "4  2017-02-07T02:24:34.733  New York, NY, United States   \n",
       "\n",
       "                                 ProfileImageUrl  reputation  upvotes Views  \\\n",
       "0                                           None           1     2472     0   \n",
       "1                                           None         101        1    31   \n",
       "2  https://i.stack.imgur.com/nGCYr.jpg?s=128&g=1         101        1    14   \n",
       "3  https://i.stack.imgur.com/d1oHX.jpg?s=128&g=1         101        1    10   \n",
       "4                                           None         101        1    11   \n",
       "\n",
       "                       WebsiteUrl  \n",
       "0  http://meta.stackexchange.com/  \n",
       "1        http://stackoverflow.com  \n",
       "2    https://nickcraver.com/blog/  \n",
       "3    http://minesweeperonline.com  \n",
       "4       http://kevinmontrose.com/  "
      ]
     },
     "execution_count": 11,
     "metadata": {},
     "output_type": "execute_result"
    }
   ],
   "source": [
    "session.source['users'].head()"
   ]
  },
  {
   "cell_type": "code",
   "execution_count": 12,
   "metadata": {},
   "outputs": [
    {
     "data": {
      "text/html": [
       "<div>\n",
       "<style>\n",
       "    .dataframe thead tr:only-child th {\n",
       "        text-align: right;\n",
       "    }\n",
       "\n",
       "    .dataframe thead th {\n",
       "        text-align: left;\n",
       "    }\n",
       "\n",
       "    .dataframe tbody tr th {\n",
       "        vertical-align: top;\n",
       "    }\n",
       "</style>\n",
       "<table border=\"1\" class=\"dataframe\">\n",
       "  <thead>\n",
       "    <tr style=\"text-align: right;\">\n",
       "      <th></th>\n",
       "      <th>index</th>\n",
       "      <th>BountyAmount</th>\n",
       "      <th>CreationDate</th>\n",
       "      <th>Id</th>\n",
       "      <th>PostId</th>\n",
       "      <th>UserId</th>\n",
       "      <th>VoteTypeId</th>\n",
       "    </tr>\n",
       "  </thead>\n",
       "  <tbody>\n",
       "    <tr>\n",
       "      <th>0</th>\n",
       "      <td>0</td>\n",
       "      <td>NaN</td>\n",
       "      <td>2011-06-21</td>\n",
       "      <td>1</td>\n",
       "      <td>1</td>\n",
       "      <td>NaN</td>\n",
       "      <td>2</td>\n",
       "    </tr>\n",
       "    <tr>\n",
       "      <th>1</th>\n",
       "      <td>1</td>\n",
       "      <td>NaN</td>\n",
       "      <td>2011-06-21</td>\n",
       "      <td>2</td>\n",
       "      <td>1</td>\n",
       "      <td>NaN</td>\n",
       "      <td>2</td>\n",
       "    </tr>\n",
       "    <tr>\n",
       "      <th>2</th>\n",
       "      <td>2</td>\n",
       "      <td>NaN</td>\n",
       "      <td>2011-06-21</td>\n",
       "      <td>3</td>\n",
       "      <td>2</td>\n",
       "      <td>NaN</td>\n",
       "      <td>2</td>\n",
       "    </tr>\n",
       "    <tr>\n",
       "      <th>3</th>\n",
       "      <td>3</td>\n",
       "      <td>NaN</td>\n",
       "      <td>2011-06-21</td>\n",
       "      <td>4</td>\n",
       "      <td>3</td>\n",
       "      <td>NaN</td>\n",
       "      <td>2</td>\n",
       "    </tr>\n",
       "    <tr>\n",
       "      <th>4</th>\n",
       "      <td>4</td>\n",
       "      <td>NaN</td>\n",
       "      <td>2011-06-21</td>\n",
       "      <td>5</td>\n",
       "      <td>5</td>\n",
       "      <td>13.0</td>\n",
       "      <td>5</td>\n",
       "    </tr>\n",
       "  </tbody>\n",
       "</table>\n",
       "</div>"
      ],
      "text/plain": [
       "   index  BountyAmount CreationDate  Id  PostId  UserId  VoteTypeId\n",
       "0      0           NaN   2011-06-21   1       1     NaN           2\n",
       "1      1           NaN   2011-06-21   2       1     NaN           2\n",
       "2      2           NaN   2011-06-21   3       2     NaN           2\n",
       "3      3           NaN   2011-06-21   4       3     NaN           2\n",
       "4      4           NaN   2011-06-21   5       5    13.0           5"
      ]
     },
     "execution_count": 12,
     "metadata": {},
     "output_type": "execute_result"
    }
   ],
   "source": [
    "session.source['votes'].head()"
   ]
  },
  {
   "cell_type": "markdown",
   "metadata": {},
   "source": [
    "# Data Exploration: US Sentiment"
   ]
  },
  {
   "cell_type": "markdown",
   "metadata": {},
   "source": [
    "### Now we can begin asking questions about our data\n",
    "\n",
    "Using either MySQL syntax or the built in functionality/flexability of pandas DataFrames"
   ]
  },
  {
   "cell_type": "markdown",
   "metadata": {},
   "source": [
    "For example, lets examine the sentiment towards the USA as a travel destination in this forum"
   ]
  },
  {
   "cell_type": "code",
   "execution_count": 13,
   "metadata": {
    "collapsed": true
   },
   "outputs": [],
   "source": [
    "# first we must strip the tags from their ...well... tags\n",
    "# appended to the original source table as 'stripped_Tags'\n",
    "\n",
    "session.source['posts']['stripped_Tags'] = session.source['posts']['Tags'].str.replace('<','').str.replace('>',' ')"
   ]
  },
  {
   "cell_type": "code",
   "execution_count": 14,
   "metadata": {},
   "outputs": [
    {
     "name": "stdout",
     "output_type": "stream",
     "text": [
      "<class 'pandas.core.frame.DataFrame'>\n",
      "Int64Index: 3391 entries, 27 to 72162\n",
      "Data columns (total 23 columns):\n",
      "index                    3391 non-null int64\n",
      "AcceptedAnswerId         1262 non-null object\n",
      "AnswerCount              3391 non-null object\n",
      "Body                     3391 non-null object\n",
      "ClosedDate               829 non-null object\n",
      "CommentCount             3391 non-null object\n",
      "CommunityOwnedDate       1 non-null datetime64[ns]\n",
      "CreationDate             3391 non-null object\n",
      "FavoriteCount            785 non-null float64\n",
      "Id                       3391 non-null int64\n",
      "LastActivityDate         3391 non-null datetime64[ns]\n",
      "LastEditDate             2903 non-null object\n",
      "LastEditorDisplayName    38 non-null object\n",
      "LastEditorUserId         2874 non-null float64\n",
      "OwnerDisplayName         42 non-null object\n",
      "OwnerUserId              3356 non-null float64\n",
      "ParentId                 0 non-null float64\n",
      "PostTypeId               3391 non-null int64\n",
      "Score                    3391 non-null int64\n",
      "Tags                     3391 non-null object\n",
      "Title                    3391 non-null object\n",
      "ViewCount                3391 non-null float64\n",
      "stripped_Tags            3391 non-null object\n",
      "dtypes: datetime64[ns](2), float64(5), int64(4), object(12)\n",
      "memory usage: 635.8+ KB\n"
     ]
    }
   ],
   "source": [
    "# lets isolate all posts that have a usa tag\n",
    "\n",
    "usa = session.source['posts'][session.source['posts']['stripped_Tags'].str.contains('usa', na=False)]\n",
    "usa.info()"
   ]
  },
  {
   "cell_type": "markdown",
   "metadata": {},
   "source": [
    "# Data Cleaning: Parse HTML\n",
    "\n",
    "Our data for the post body still contains all the raw html included - lets use BeautifulSoup to parse the contents of the html tags"
   ]
  },
  {
   "cell_type": "code",
   "execution_count": 15,
   "metadata": {},
   "outputs": [
    {
     "name": "stderr",
     "output_type": "stream",
     "text": [
      "C:\\Users\\jeffe\\Anaconda3\\lib\\site-packages\\ipykernel\\__main__.py:2: SettingWithCopyWarning: \n",
      "A value is trying to be set on a copy of a slice from a DataFrame.\n",
      "Try using .loc[row_indexer,col_indexer] = value instead\n",
      "\n",
      "See the caveats in the documentation: http://pandas.pydata.org/pandas-docs/stable/indexing.html#indexing-view-versus-copy\n",
      "  from ipykernel import kernelapp as app\n"
     ]
    }
   ],
   "source": [
    "from bs4 import BeautifulSoup\n",
    "usa['Body'] = [BeautifulSoup(text,'lxml').get_text() for text in usa['Body']]"
   ]
  },
  {
   "cell_type": "code",
   "execution_count": 16,
   "metadata": {},
   "outputs": [
    {
     "data": {
      "text/plain": [
       "'The next time family from overseas comes to visit me in the USA, I would like for them to see the major sites in the USA.\\nIs there such a thing as a prepaid flying tour of the USA?\\n'"
      ]
     },
     "execution_count": 16,
     "metadata": {},
     "output_type": "execute_result"
    }
   ],
   "source": [
    "usa['Body'][27]"
   ]
  },
  {
   "cell_type": "markdown",
   "metadata": {},
   "source": [
    "Post body still contains those annoying \\n line breaks - lets use a simple str replace to get rid of them"
   ]
  },
  {
   "cell_type": "code",
   "execution_count": 17,
   "metadata": {},
   "outputs": [
    {
     "name": "stderr",
     "output_type": "stream",
     "text": [
      "C:\\Users\\jeffe\\Anaconda3\\lib\\site-packages\\ipykernel\\__main__.py:1: SettingWithCopyWarning: \n",
      "A value is trying to be set on a copy of a slice from a DataFrame.\n",
      "Try using .loc[row_indexer,col_indexer] = value instead\n",
      "\n",
      "See the caveats in the documentation: http://pandas.pydata.org/pandas-docs/stable/indexing.html#indexing-view-versus-copy\n",
      "  if __name__ == '__main__':\n"
     ]
    }
   ],
   "source": [
    "usa['Body'] = usa['Body'].str.replace('\\n', ' ')"
   ]
  },
  {
   "cell_type": "code",
   "execution_count": 18,
   "metadata": {},
   "outputs": [
    {
     "data": {
      "text/plain": [
       "'The next time family from overseas comes to visit me in the USA, I would like for them to see the major sites in the USA. Is there such a thing as a prepaid flying tour of the USA? '"
      ]
     },
     "execution_count": 18,
     "metadata": {},
     "output_type": "execute_result"
    }
   ],
   "source": [
    "usa['Body'][27]"
   ]
  },
  {
   "cell_type": "code",
   "execution_count": 19,
   "metadata": {},
   "outputs": [
    {
     "data": {
      "text/plain": [
       "<matplotlib.axes._subplots.AxesSubplot at 0x2ecb6cef710>"
      ]
     },
     "execution_count": 19,
     "metadata": {},
     "output_type": "execute_result"
    },
    {
     "data": {
      "image/png": "[encoded data removed]",
      "text/plain": [
       "<matplotlib.figure.Figure at 0x2ecb59ef160>"
      ]
     },
     "metadata": {},
     "output_type": "display_data"
    }
   ],
   "source": [
    "# plotting scores for each usa related post\n",
    "\n",
    "piccap3 = 'Post Scores for Posts Tagged USA'\n",
    "\n",
    "session.plotdf(sns.distplot(session.source['posts'][session.source['posts']['stripped_Tags'].str.contains('usa', na=False)]['Score']),piccap3)"
   ]
  },
  {
   "cell_type": "markdown",
   "metadata": {},
   "source": [
    "Post scores for USA tagged posts seem to have a positive skew, but are still relatively low. Lets do some further data exploration to isolate relevant statistical moments from the data."
   ]
  },
  {
   "cell_type": "code",
   "execution_count": 20,
   "metadata": {},
   "outputs": [
    {
     "name": "stdout",
     "output_type": "stream",
     "text": [
      "Mean: 6.104393984075494\n",
      "Median: 4.0\n",
      "Mode: 0    2\n",
      "dtype: int64\n"
     ]
    }
   ],
   "source": [
    "print('Mean: '+str(session.source['posts'][session.source['posts']['stripped_Tags'].str.contains('usa', na=False)]['Score'].mean()))\n",
    "print('Median: '+str(session.source['posts'][session.source['posts']['stripped_Tags'].str.contains('usa', na=False)]['Score'].median()))\n",
    "print('Mode: '+str(session.source['posts'][session.source['posts']['stripped_Tags'].str.contains('usa', na=False)]['Score'].mode()))"
   ]
  },
  {
   "cell_type": "markdown",
   "metadata": {},
   "source": [
    "Median is more likely a better measure, as it is not skewed as much as the mean - lets make a box and whisker plot to confirm this"
   ]
  },
  {
   "cell_type": "code",
   "execution_count": 21,
   "metadata": {},
   "outputs": [
    {
     "data": {
      "text/plain": [
       "(-5, 15)"
      ]
     },
     "execution_count": 21,
     "metadata": {},
     "output_type": "execute_result"
    },
    {
     "data": {
      "image/png": "[encoded data removed]",
      "text/plain": [
       "<matplotlib.figure.Figure at 0x2eccbe827f0>"
      ]
     },
     "metadata": {},
     "output_type": "display_data"
    }
   ],
   "source": [
    "session.source['posts'][session.source['posts']['stripped_Tags'].str.contains('usa', na=False)]['Score'].plot(kind='box')\n",
    "plt.title('Post Score for Posts Tagged \"usa\"')\n",
    "plt.xlabel('')\n",
    "plt.ylabel('Post Score')\n",
    "plt.ylim((-5,15))"
   ]
  },
  {
   "cell_type": "markdown",
   "metadata": {},
   "source": [
    "It's difficult to tell, but post Score appears to be more or less symmetrical about the median. Let's go ahead and use the median value as the cutoff for performing sentiment analysis on the contents of the post:\n",
    "\n",
    "* Score >= 4 -> Good\n",
    "* Score < 4 -> Bad\n",
    "\n",
    "For fun lets find the highest score and the lowest score in the post history:"
   ]
  },
  {
   "cell_type": "code",
   "execution_count": 22,
   "metadata": {},
   "outputs": [
    {
     "data": {
      "text/plain": [
       "'I have come across a few situations when an American will say something like \"We should have lunch some time\" or \"Let\\'s have lunch some time.\" Or \"you should come down to visit me in D.C. (or Miami or wherever\"); we have great museums (or Cuban food or whatever).\" It turns out though that more often than not they don\\'t really mean it. Because if I then immediately follow up with \"Oh how about lunch tomorrow?\" or \"Oh will you be in Miami in early December? I could come by then.\", they usually start getting evasive and awkward, and back out of what seemed like an invitation that they just made. How can I tell when Americans genuinely/literally mean what they say, especially in the aforementioned situations?  Perhaps this is common not just to American culture but also to some other cultures across the world, but it was (and still is) very puzzling to me and I am still trying to figure it out. '"
      ]
     },
     "execution_count": 22,
     "metadata": {},
     "output_type": "execute_result"
    }
   ],
   "source": [
    "# highest score\n",
    "usa[usa['Score'] == usa['Score'].max()]['Body'][27472]"
   ]
  },
  {
   "cell_type": "code",
   "execution_count": 23,
   "metadata": {},
   "outputs": [
    {
     "data": {
      "text/plain": [
       "\"What is the local culture of USA, like in South Africa, we have isiXhosa's and isiZulu's etc... So what are native culture groups around North America USA. \""
      ]
     },
     "execution_count": 23,
     "metadata": {},
     "output_type": "execute_result"
    }
   ],
   "source": [
    "# Lowest score\n",
    "usa[usa['Score'] == usa['Score'].min()]['Body'][11618]"
   ]
  },
  {
   "cell_type": "markdown",
   "metadata": {},
   "source": [
    "# Model Building: USA Sentiment Classification\n",
    "\n",
    "For this model, lets do some good 'ole fashioned classification to pick up on sentiments pertaining to the USA"
   ]
  },
  {
   "cell_type": "code",
   "execution_count": 24,
   "metadata": {},
   "outputs": [
    {
     "name": "stderr",
     "output_type": "stream",
     "text": [
      "C:\\Users\\jeffe\\Anaconda3\\lib\\site-packages\\ipykernel\\__main__.py:7: SettingWithCopyWarning: \n",
      "A value is trying to be set on a copy of a slice from a DataFrame.\n",
      "Try using .loc[row_indexer,col_indexer] = value instead\n",
      "\n",
      "See the caveats in the documentation: http://pandas.pydata.org/pandas-docs/stable/indexing.html#indexing-view-versus-copy\n"
     ]
    }
   ],
   "source": [
    "def partition(x):\n",
    "    \"\"\" Splits posts into good sentiment vs bad sentiment based on score \"\"\"\n",
    "    if x < 4.0:\n",
    "        return 'Negative'\n",
    "    return 'Positive'\n",
    "\n",
    "usa['US_sentiment'] = usa['Score'].map(partition)"
   ]
  },
  {
   "cell_type": "code",
   "execution_count": 25,
   "metadata": {
    "collapsed": true
   },
   "outputs": [],
   "source": [
    "X = usa['Body']\n",
    "y = usa['US_sentiment']"
   ]
  },
  {
   "cell_type": "code",
   "execution_count": 26,
   "metadata": {
    "collapsed": true
   },
   "outputs": [],
   "source": [
    "from sklearn.model_selection import train_test_split\n",
    "X_train, X_test, y_train, y_test = train_test_split(X, y, test_size=0.3, random_state=42)"
   ]
  },
  {
   "cell_type": "code",
   "execution_count": 27,
   "metadata": {},
   "outputs": [
    {
     "name": "stderr",
     "output_type": "stream",
     "text": [
      "C:\\Users\\jeffe\\Anaconda3\\lib\\site-packages\\sklearn\\cross_validation.py:41: DeprecationWarning: This module was deprecated in version 0.18 in favor of the model_selection module into which all the refactored classes and functions are moved. Also note that the interface of the new CV iterators are different from that of this module. This module will be removed in 0.20.\n",
      "  \"This module will be removed in 0.20.\", DeprecationWarning)\n"
     ]
    }
   ],
   "source": [
    "from tabulate import tabulate\n",
    "from sklearn.feature_extraction.text import CountVectorizer, TfidfVectorizer\n",
    "from sklearn.naive_bayes import MultinomialNB\n",
    "from sklearn.naive_bayes import BernoulliNB\n",
    "from sklearn.linear_model import LogisticRegression\n",
    "from sklearn.pipeline import Pipeline\n",
    "from sklearn.svm import SVC\n",
    "from sklearn.cross_validation import cross_val_score\n",
    "from sklearn.metrics import accuracy_score\n",
    "from sklearn.cross_validation import StratifiedShuffleSplit\n",
    "\n",
    "multi_nb = Pipeline([\n",
    "    ('bow', CountVectorizer(analyzer=lambda x: x)),  # strings to token integer counts\n",
    "    ('classifier', MultinomialNB()),  # train on tokens w/ Naive Bayes classifier Multinomial\n",
    "])\n",
    "\n",
    "multi_nb_tfidf = Pipeline([\n",
    "    ('bow', TfidfVectorizer(analyzer=lambda x: x)),  # strings to token integer counts\n",
    "    ('classifier', MultinomialNB()),  # train on tokens w/ Naive Bayes classifier Multinomial\n",
    "])\n",
    "\n",
    "bern_nb = Pipeline([\n",
    "    ('bow', CountVectorizer(analyzer=lambda x: x)),  # strings to token integer counts\n",
    "    ('classifier', BernoulliNB()),  # train on tokens w/ Naive Bayes classifier Bernoulli\n",
    "])\n",
    "\n",
    "bern_nb_tfidf = Pipeline([\n",
    "    ('bow', TfidfVectorizer(analyzer=lambda x: x)),  # strings to token integer counts\n",
    "    ('classifier', BernoulliNB()),  # train on tokens w/ Naive Bayes classifier Bernoulli\n",
    "])\n",
    "\n",
    "log_reg = Pipeline([\n",
    "    ('bow', CountVectorizer(analyzer=lambda x: x)),  # strings to token integer counts\n",
    "    ('classifier', LogisticRegression()),  # train on tokens w/ Logistic Regression classifier \n",
    "])\n",
    "\n",
    "log_reg_tfidf = Pipeline([\n",
    "    ('bow', TfidfVectorizer(analyzer=lambda x: x)),  # strings to token integer counts\n",
    "    ('classifier', LogisticRegression()),  # train on tokens w/ Logistic Regression classifier \n",
    "])\n",
    "\n",
    "svc = Pipeline([\n",
    "    ('bow', CountVectorizer(analyzer=lambda x: x)),  # strings to token integer counts\n",
    "    ('classifier', SVC()),  # train on tokens w/ Support Vector Machine classifier \n",
    "])\n",
    "\n",
    "svc_tfidf = Pipeline([\n",
    "    ('bow', TfidfVectorizer(analyzer=lambda x: x)),  # strings to token integer counts\n",
    "    ('classifier', SVC()),  # train on tokens w/ Support Vector Machine classifier \n",
    "])"
   ]
  },
  {
   "cell_type": "code",
   "execution_count": 28,
   "metadata": {},
   "outputs": [
    {
     "name": "stdout",
     "output_type": "stream",
     "text": [
      "model            score\n",
      "-------------  -------\n",
      "log_reg_tfidf   0.6016\n",
      "log_reg         0.5904\n",
      "mult_nb         0.5874\n",
      "bern_nb         0.5789\n",
      "bern_nb_tfidf   0.5789\n",
      "svc             0.5411\n",
      "mult_nb_tfidf   0.5226\n",
      "svc_tfidf       0.5175\n"
     ]
    }
   ],
   "source": [
    "all_models = [\n",
    "    (\"mult_nb\", multi_nb),\n",
    "    (\"mult_nb_tfidf\", multi_nb_tfidf),\n",
    "    (\"bern_nb\", bern_nb),\n",
    "    (\"bern_nb_tfidf\", bern_nb_tfidf),\n",
    "    (\"log_reg\", log_reg),\n",
    "    (\"log_reg_tfidf\", log_reg_tfidf),\n",
    "    (\"svc\", svc),\n",
    "    (\"svc_tfidf\", svc_tfidf),\n",
    "\n",
    "]\n",
    "\n",
    "\n",
    "unsorted_scores = [(name, cross_val_score(model, X, y, cv=5).mean()) for name, model in all_models]\n",
    "scores = sorted(unsorted_scores, key=lambda x: -x[1])\n",
    "\n",
    "\n",
    "print(tabulate(scores, floatfmt=\".4f\", headers=(\"model\", 'score')))"
   ]
  },
  {
   "cell_type": "code",
   "execution_count": 29,
   "metadata": {},
   "outputs": [
    {
     "data": {
      "text/plain": [
       "<matplotlib.text.Text at 0x2eccf7069e8>"
      ]
     },
     "execution_count": 29,
     "metadata": {},
     "output_type": "execute_result"
    },
    {
     "data": {
      "image/png": "[encoded data removed]",
      "text/plain": [
       "<matplotlib.figure.Figure at 0x2eccf784198>"
      ]
     },
     "metadata": {},
     "output_type": "display_data"
    }
   ],
   "source": [
    "plt.figure(figsize=(15, 6))\n",
    "sns.barplot(x=[name for name, _ in scores], y=[score for _, score in scores])\n",
    "plt.ylabel('Accuracy Score')"
   ]
  },
  {
   "cell_type": "markdown",
   "metadata": {},
   "source": [
    "Setup as a classification problem, sentiment towards the USA can be gleamed from a post with relative accuracy."
   ]
  }
 ],
 "metadata": {
  "anaconda-cloud": {},
  "kernelspec": {
   "display_name": "Python [default]",
   "language": "python",
   "name": "python3"
  },
  "language_info": {
   "codemirror_mode": {
    "name": "ipython",
    "version": 3
   },
   "file_extension": ".py",
   "mimetype": "text/x-python",
   "name": "python",
   "nbconvert_exporter": "python",
   "pygments_lexer": "ipython3",
   "version": "3.6.1"
  }
 },
 "nbformat": 4,
 "nbformat_minor": 2
}
